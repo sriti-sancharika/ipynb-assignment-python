{
 "cells": [
  {
   "cell_type": "markdown",
   "id": "22bca8a1-4b37-49a4-adc6-cf388a60eb7a",
   "metadata": {},
   "source": [
    "Q1. How can we store a single quote (‘) as a string in a variable?"
   ]
  },
  {
   "cell_type": "code",
   "execution_count": 5,
   "id": "bfedaa5c-868f-4ccc-9467-4f52b1080dfc",
   "metadata": {},
   "outputs": [],
   "source": [
    "s=\"'\""
   ]
  },
  {
   "cell_type": "code",
   "execution_count": 6,
   "id": "f539c593-23ee-4638-9ddd-0ab8d982288c",
   "metadata": {},
   "outputs": [
    {
     "data": {
      "text/plain": [
       "\"'\""
      ]
     },
     "execution_count": 6,
     "metadata": {},
     "output_type": "execute_result"
    }
   ],
   "source": [
    "s[0]"
   ]
  },
  {
   "cell_type": "markdown",
   "id": "88c96b26-e398-4ba1-bde1-764c793784d3",
   "metadata": {},
   "source": [
    "so we can store a single quote as a string variable by enclosing the string using double quotes."
   ]
  },
  {
   "cell_type": "markdown",
   "id": "d8e34151-cd51-4def-9344-2d25d417e422",
   "metadata": {},
   "source": [
    "Q2. Refer the below var1able:\n",
    "x = ‘a'\n",
    "Here, is x a character type or string type variable? Support your answer w1th an explanation."
   ]
  },
  {
   "cell_type": "markdown",
   "id": "9dcbaad5-5c33-4dfa-8956-3938f6dc708c",
   "metadata": {},
   "source": [
    "ans- Python does not have a character data type therefore will consider the above given variable of string datatype. A single character is simply a string with a length of 1. Therefore a variable containing characters of any length within double or single quotes will be considered of string data type. "
   ]
  },
  {
   "cell_type": "markdown",
   "id": "05531a6f-314a-494f-8199-a0bc9f451037",
   "metadata": {},
   "source": [
    "Q3. solution:"
   ]
  },
  {
   "cell_type": "code",
   "execution_count": 12,
   "id": "5f9bbb23-0ddf-4c7d-b929-7a0dbcc89dd3",
   "metadata": {},
   "outputs": [
    {
     "data": {
      "text/plain": [
       "3"
      ]
     },
     "execution_count": 12,
     "metadata": {},
     "output_type": "execute_result"
    }
   ],
   "source": [
    "s='Welcome to Python Foundation Course'\n",
    "s.find('c')"
   ]
  },
  {
   "cell_type": "code",
   "execution_count": 15,
   "id": "39a6b6cf-b698-4be9-ae4f-e5132aecb361",
   "metadata": {},
   "outputs": [
    {
     "data": {
      "text/plain": [
       "1"
      ]
     },
     "execution_count": 15,
     "metadata": {},
     "output_type": "execute_result"
    }
   ],
   "source": [
    "s.count('a')"
   ]
  },
  {
   "cell_type": "code",
   "execution_count": 16,
   "id": "8c6bf353-440e-43a4-971b-ffe09f8fdcdd",
   "metadata": {},
   "outputs": [
    {
     "data": {
      "text/plain": [
       "35"
      ]
     },
     "execution_count": 16,
     "metadata": {},
     "output_type": "execute_result"
    }
   ],
   "source": [
    "len(s)"
   ]
  },
  {
   "cell_type": "code",
   "execution_count": 17,
   "id": "73d73a99-63ce-40b5-a511-6228dd69b666",
   "metadata": {},
   "outputs": [
    {
     "name": "stdout",
     "output_type": "stream",
     "text": [
      "Welcome to Python Foundation Course\n"
     ]
    }
   ],
   "source": [
    "a= s[0:18]\n",
    "b=s[18::1]\n",
    "k= a+b\n",
    "print(k)"
   ]
  },
  {
   "cell_type": "markdown",
   "id": "13b50edb-67f8-4dfc-9e53-6574d7ed0a60",
   "metadata": {},
   "source": [
    "Q4. solution"
   ]
  },
  {
   "cell_type": "code",
   "execution_count": 3,
   "id": "410db4b2-ac6b-467b-b389-d6f35cc4e653",
   "metadata": {},
   "outputs": [
    {
     "name": "stdout",
     "output_type": "stream",
     "text": [
      "The number of lowercase characters is: 4\n",
      "The number of uppercase characters is: 2\n",
      "The number of numerical characters is: 5\n",
      "The number of special characters is: 1\n"
     ]
    }
   ],
   "source": [
    "s=\"PanaJi@12256\"\n",
    "lower=0\n",
    "upper=0\n",
    "digi=0\n",
    "spec=0\n",
    "for i in s:\n",
    "      if(i.islower()):\n",
    "            lower+=1\n",
    "      elif(i.isupper()):\n",
    "            upper+=1\n",
    "      elif(i.isdigit()):\n",
    "            digi+=1\n",
    "      else:\n",
    "            spec+=1\n",
    "print(\"The number of lowercase characters is:\",lower)\n",
    "print(\"The number of uppercase characters is:\",upper)\n",
    "print(\"The number of numerical characters is:\",digi)\n",
    "print(\"The number of special characters is:\",spec)"
   ]
  },
  {
   "cell_type": "markdown",
   "id": "3744de8d-b4f8-4ce2-acb2-4495ed060266",
   "metadata": {},
   "source": [
    "Q5. solution"
   ]
  },
  {
   "cell_type": "code",
   "execution_count": 5,
   "id": "e4e535ec-d0dc-4435-a3fa-254d13b8d77d",
   "metadata": {},
   "outputs": [
    {
     "data": {
      "text/plain": [
       "int"
      ]
     },
     "execution_count": 5,
     "metadata": {},
     "output_type": "execute_result"
    }
   ],
   "source": [
    "a=12256\n",
    "type(a)"
   ]
  },
  {
   "cell_type": "code",
   "execution_count": 6,
   "id": "bcf56c15-f396-4962-878a-af16a87b7e1a",
   "metadata": {},
   "outputs": [
    {
     "data": {
      "text/plain": [
       "'12256'"
      ]
     },
     "execution_count": 6,
     "metadata": {},
     "output_type": "execute_result"
    }
   ],
   "source": [
    "s= str(a)\n",
    "s"
   ]
  },
  {
   "cell_type": "code",
   "execution_count": 7,
   "id": "e92ea8f8-29d8-4b05-9292-19d44b44e92d",
   "metadata": {},
   "outputs": [
    {
     "data": {
      "text/plain": [
       "str"
      ]
     },
     "execution_count": 7,
     "metadata": {},
     "output_type": "execute_result"
    }
   ],
   "source": [
    "type(s)"
   ]
  }
 ],
 "metadata": {
  "kernelspec": {
   "display_name": "Python 3 (ipykernel)",
   "language": "python",
   "name": "python3"
  },
  "language_info": {
   "codemirror_mode": {
    "name": "ipython",
    "version": 3
   },
   "file_extension": ".py",
   "mimetype": "text/x-python",
   "name": "python",
   "nbconvert_exporter": "python",
   "pygments_lexer": "ipython3",
   "version": "3.10.8"
  }
 },
 "nbformat": 4,
 "nbformat_minor": 5
}
