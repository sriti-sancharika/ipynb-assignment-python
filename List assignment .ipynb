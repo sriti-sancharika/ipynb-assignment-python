{
 "cells": [
  {
   "cell_type": "markdown",
   "id": "40e624f1-483e-4728-9fdf-e871cf26a202",
   "metadata": {},
   "source": [
    "1. Create an empty list."
   ]
  },
  {
   "cell_type": "code",
   "execution_count": 1,
   "id": "75357383-5000-438f-9ed0-73ecf8dca773",
   "metadata": {},
   "outputs": [],
   "source": [
    "l=[]"
   ]
  },
  {
   "cell_type": "code",
   "execution_count": 2,
   "id": "c8414bd8-3939-4c9c-ba64-2020a8cc8d1c",
   "metadata": {},
   "outputs": [
    {
     "data": {
      "text/plain": [
       "[]"
      ]
     },
     "execution_count": 2,
     "metadata": {},
     "output_type": "execute_result"
    }
   ],
   "source": [
    "l"
   ]
  },
  {
   "cell_type": "code",
   "execution_count": 3,
   "id": "9efa4bfa-e117-4b6d-85bd-f485d03ced44",
   "metadata": {},
   "outputs": [
    {
     "data": {
      "text/plain": [
       "list"
      ]
     },
     "execution_count": 3,
     "metadata": {},
     "output_type": "execute_result"
    }
   ],
   "source": [
    "type(l)"
   ]
  },
  {
   "cell_type": "markdown",
   "id": "5041b46c-9f13-4ed5-bf75-1f5a3d1eedc0",
   "metadata": {},
   "source": [
    "2.Create a list and add an element to the end of this list."
   ]
  },
  {
   "cell_type": "code",
   "execution_count": 4,
   "id": "98c28548-2417-406e-a95c-02ebc75b2d6a",
   "metadata": {},
   "outputs": [],
   "source": [
    "l=[1,2,3,4,5,\"LISTSSS\", 2+6j, 2.56]"
   ]
  },
  {
   "cell_type": "code",
   "execution_count": 12,
   "id": "0af1f3e4-c5fd-43b5-8330-17cf43af5ba4",
   "metadata": {},
   "outputs": [],
   "source": [
    "l.append(\"TAIL\")"
   ]
  },
  {
   "cell_type": "code",
   "execution_count": 13,
   "id": "401475d4-05f6-4ab2-b6f4-1acd458de8d8",
   "metadata": {},
   "outputs": [
    {
     "data": {
      "text/plain": [
       "[1, 2, 3, 4, 5, 'LISTSSS', (2+6j), 2.56, 'TAIL']"
      ]
     },
     "execution_count": 13,
     "metadata": {},
     "output_type": "execute_result"
    }
   ],
   "source": [
    "l"
   ]
  },
  {
   "cell_type": "markdown",
   "id": "6493bdcf-b99e-42fd-b219-3cdbb3f334c4",
   "metadata": {},
   "source": [
    "Q3. For the above created list print the last element."
   ]
  },
  {
   "cell_type": "code",
   "execution_count": 15,
   "id": "177b6167-9507-4657-b51f-29595e47d9aa",
   "metadata": {},
   "outputs": [
    {
     "name": "stdout",
     "output_type": "stream",
     "text": [
      "TAIL\n"
     ]
    }
   ],
   "source": [
    "print(l[-1])"
   ]
  },
  {
   "cell_type": "markdown",
   "id": "ca715eec-af1c-4c87-b3f8-7babcf2550cc",
   "metadata": {},
   "source": [
    "Q4. Reverse the above created list."
   ]
  },
  {
   "cell_type": "code",
   "execution_count": 16,
   "id": "51aa3f38-d612-4147-97fa-e1e394e51fca",
   "metadata": {},
   "outputs": [
    {
     "data": {
      "text/plain": [
       "[1, 2, 3, 4, 5, 'LISTSSS', (2+6j), 2.56, 'TAIL']"
      ]
     },
     "execution_count": 16,
     "metadata": {},
     "output_type": "execute_result"
    }
   ],
   "source": [
    "l"
   ]
  },
  {
   "cell_type": "code",
   "execution_count": 17,
   "id": "e1098abe-e604-45a5-bdea-7808bb30afbb",
   "metadata": {},
   "outputs": [],
   "source": [
    "l=l[::-1]"
   ]
  },
  {
   "cell_type": "code",
   "execution_count": 18,
   "id": "0aa5b0e5-a00d-4219-b995-8315184b696f",
   "metadata": {},
   "outputs": [
    {
     "data": {
      "text/plain": [
       "['TAIL', 2.56, (2+6j), 'LISTSSS', 5, 4, 3, 2, 1]"
      ]
     },
     "execution_count": 18,
     "metadata": {},
     "output_type": "execute_result"
    }
   ],
   "source": [
    "l"
   ]
  },
  {
   "cell_type": "markdown",
   "id": "4b899bfe-d1ae-45a7-a997-e7d8d63b0cd4",
   "metadata": {},
   "source": [
    "Q5. Sort the above created list."
   ]
  },
  {
   "cell_type": "code",
   "execution_count": 19,
   "id": "e9100526-e9bf-488b-884a-adc0f3827558",
   "metadata": {},
   "outputs": [
    {
     "data": {
      "text/plain": [
       "['TAIL', 2.56, (2+6j), 'LISTSSS', 5, 4, 3, 2, 1]"
      ]
     },
     "execution_count": 19,
     "metadata": {},
     "output_type": "execute_result"
    }
   ],
   "source": [
    "l"
   ]
  },
  {
   "cell_type": "markdown",
   "id": "bee476c1-2a9a-4745-8009-5575d0ea674d",
   "metadata": {},
   "source": [
    "Since the above list contains data of different data_types therefore, changing some values"
   ]
  },
  {
   "cell_type": "code",
   "execution_count": 22,
   "id": "f149b36b-b925-4786-bb33-d4a5e1070e9d",
   "metadata": {},
   "outputs": [],
   "source": [
    "l[0]=8"
   ]
  },
  {
   "cell_type": "code",
   "execution_count": 23,
   "id": "a54bc530-652b-4c29-8058-110094c61604",
   "metadata": {},
   "outputs": [],
   "source": [
    "l[1]=7"
   ]
  },
  {
   "cell_type": "code",
   "execution_count": 24,
   "id": "7323918b-4200-4b99-8b88-40836a7876df",
   "metadata": {},
   "outputs": [],
   "source": [
    "l[2]=0"
   ]
  },
  {
   "cell_type": "code",
   "execution_count": 25,
   "id": "831fa0a7-ac9d-4a2b-9ea2-c8cfc91c9a84",
   "metadata": {},
   "outputs": [],
   "source": [
    "l[3]=9"
   ]
  },
  {
   "cell_type": "code",
   "execution_count": 26,
   "id": "39ad834c-7304-4bf4-88c1-95d96e2961d4",
   "metadata": {},
   "outputs": [
    {
     "data": {
      "text/plain": [
       "[8, 7, 0, 9, 5, 4, 3, 2, 1]"
      ]
     },
     "execution_count": 26,
     "metadata": {},
     "output_type": "execute_result"
    }
   ],
   "source": [
    "l"
   ]
  },
  {
   "cell_type": "code",
   "execution_count": 27,
   "id": "f21dd1ac-f966-4083-b243-37ad9cd9bb2c",
   "metadata": {},
   "outputs": [],
   "source": [
    "l.sort()"
   ]
  },
  {
   "cell_type": "code",
   "execution_count": 28,
   "id": "02fd095f-c96d-47ac-ab92-5fa7472f7540",
   "metadata": {},
   "outputs": [
    {
     "data": {
      "text/plain": [
       "[0, 1, 2, 3, 4, 5, 7, 8, 9]"
      ]
     },
     "execution_count": 28,
     "metadata": {},
     "output_type": "execute_result"
    }
   ],
   "source": [
    "l"
   ]
  },
  {
   "cell_type": "markdown",
   "id": "bd851d81-60fe-4f4c-8363-80c1c7e2aee8",
   "metadata": {},
   "source": [
    "The list is sorted in ascending order by default."
   ]
  },
  {
   "cell_type": "markdown",
   "id": "11f4a186-0e6b-4b73-b54a-23b3ed85a67d",
   "metadata": {},
   "source": [
    "Q6. Create a list of your top three favorite movies, then print the second movie title."
   ]
  },
  {
   "cell_type": "code",
   "execution_count": 29,
   "id": "4dee951a-5bdb-4d6d-86e8-3e8d4a53627b",
   "metadata": {},
   "outputs": [],
   "source": [
    "l=[\"X Men\", \"Wolverine\", \"My babysitter is a Vampire\"]"
   ]
  },
  {
   "cell_type": "code",
   "execution_count": 30,
   "id": "6df8f0dc-201b-4efb-825d-3b971a1b22dc",
   "metadata": {},
   "outputs": [
    {
     "name": "stdout",
     "output_type": "stream",
     "text": [
      "Wolverine\n"
     ]
    }
   ],
   "source": [
    "print(l[1])"
   ]
  },
  {
   "cell_type": "markdown",
   "id": "628085b1-e59d-4e16-bc66-2f92b8ed1715",
   "metadata": {},
   "source": [
    "Q7. Create a list of your favorite animals, then add a new animal to the list and print the updated list."
   ]
  },
  {
   "cell_type": "code",
   "execution_count": 31,
   "id": "cb8fcfa2-9488-4207-a801-26a081dde1c0",
   "metadata": {},
   "outputs": [],
   "source": [
    "l=[\"Wolves\",\"Sloth\",\"Fox\",\"Deer\",\"Bat\"]"
   ]
  },
  {
   "cell_type": "code",
   "execution_count": 32,
   "id": "33bce6c1-c3af-47c9-a0e3-8713b6ce5fe5",
   "metadata": {},
   "outputs": [
    {
     "data": {
      "text/plain": [
       "['Wolves', 'Sloth', 'Fox', 'Deer', 'Bat']"
      ]
     },
     "execution_count": 32,
     "metadata": {},
     "output_type": "execute_result"
    }
   ],
   "source": [
    "l"
   ]
  },
  {
   "cell_type": "code",
   "execution_count": 33,
   "id": "b8bf0a47-e68c-45bb-8cbf-e14a791c606b",
   "metadata": {},
   "outputs": [],
   "source": [
    "l.insert(1, \"Snakes\")"
   ]
  },
  {
   "cell_type": "code",
   "execution_count": 34,
   "id": "9f5d1995-23bf-4e97-9a0b-0971614cf1d4",
   "metadata": {},
   "outputs": [
    {
     "data": {
      "text/plain": [
       "['Wolves', 'Snakes', 'Sloth', 'Fox', 'Deer', 'Bat']"
      ]
     },
     "execution_count": 34,
     "metadata": {},
     "output_type": "execute_result"
    }
   ],
   "source": [
    "l"
   ]
  },
  {
   "cell_type": "markdown",
   "id": "82cb20ad-b0c6-4a02-ac05-c7e723ace8c3",
   "metadata": {},
   "source": [
    "Q8. Create a list of your favorite cities, then use the index() method to find the position of a specific city\n",
    "on the list and print it."
   ]
  },
  {
   "cell_type": "code",
   "execution_count": 35,
   "id": "241f6fc5-ee6b-4bae-adf1-32985c91e32e",
   "metadata": {},
   "outputs": [],
   "source": [
    "l=[\"Dublin\",\"Lycan\",\"NYC\"]"
   ]
  },
  {
   "cell_type": "code",
   "execution_count": 39,
   "id": "71f728d1-24d0-4157-b38b-3528f9299ac0",
   "metadata": {},
   "outputs": [
    {
     "data": {
      "text/plain": [
       "1"
      ]
     },
     "execution_count": 39,
     "metadata": {},
     "output_type": "execute_result"
    }
   ],
   "source": [
    "l.index(\"Lycan\")"
   ]
  },
  {
   "cell_type": "code",
   "execution_count": 38,
   "id": "b31c6699-5eb7-470f-a90b-75104d843b37",
   "metadata": {},
   "outputs": [
    {
     "name": "stdout",
     "output_type": "stream",
     "text": [
      "1\n"
     ]
    }
   ],
   "source": [
    "print(l.index(\"Lycan\"))"
   ]
  }
 ],
 "metadata": {
  "kernelspec": {
   "display_name": "Python 3 (ipykernel)",
   "language": "python",
   "name": "python3"
  },
  "language_info": {
   "codemirror_mode": {
    "name": "ipython",
    "version": 3
   },
   "file_extension": ".py",
   "mimetype": "text/x-python",
   "name": "python",
   "nbconvert_exporter": "python",
   "pygments_lexer": "ipython3",
   "version": "3.10.8"
  }
 },
 "nbformat": 4,
 "nbformat_minor": 5
}
