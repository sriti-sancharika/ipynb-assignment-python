{
 "cells": [
  {
   "cell_type": "markdown",
   "id": "ca968be9-3644-422f-8eff-c1a3550a401a",
   "metadata": {},
   "source": [
    "Q1. What is a set in Python?"
   ]
  },
  {
   "cell_type": "markdown",
   "id": "3cf4a067-618d-41f4-a2d6-cc02e1db7dce",
   "metadata": {},
   "source": [
    "Ans- Sets are un-ordered, un- indexed collection of unique data. A Set is iterable, mutable and has no duplicate elements."
   ]
  },
  {
   "cell_type": "markdown",
   "id": "1a2d9dcf-1d9e-4b4b-b2da-b9c8a9453804",
   "metadata": {},
   "source": [
    "Q2.How do you create a set in Python?"
   ]
  },
  {
   "cell_type": "markdown",
   "id": "d4b9d090-c34f-41ac-92f1-69ecd3c91a4f",
   "metadata": {},
   "source": [
    "Ans- A set can be created using curly brackets.Ex.-"
   ]
  },
  {
   "cell_type": "code",
   "execution_count": 3,
   "id": "0febedc7-c75e-4fde-8a4a-8347959c670c",
   "metadata": {},
   "outputs": [],
   "source": [
    "s={1,2,4,5,45,4,4,54,54,5,4,\"Willow\",\"TS\"}"
   ]
  },
  {
   "cell_type": "code",
   "execution_count": 4,
   "id": "167f2ffb-2520-40e9-9d62-7841cd17f357",
   "metadata": {},
   "outputs": [
    {
     "data": {
      "text/plain": [
       "set"
      ]
     },
     "execution_count": 4,
     "metadata": {},
     "output_type": "execute_result"
    }
   ],
   "source": [
    "type(s)"
   ]
  },
  {
   "cell_type": "markdown",
   "id": "e9d63b93-1c58-4344-96a1-6e3963f6100a",
   "metadata": {},
   "source": [
    "Q3. How do you add elements to a set in Python?"
   ]
  },
  {
   "cell_type": "markdown",
   "id": "7af6ec64-4523-41f1-9681-e3bd256ca428",
   "metadata": {},
   "source": [
    "Ans- Elements can be added to sets by the use of add() fuction but data types like lists and sets can be added.e.g.,"
   ]
  },
  {
   "cell_type": "code",
   "execution_count": 5,
   "id": "2f402115-72ea-4a15-921c-ee8a0c4b4f18",
   "metadata": {},
   "outputs": [
    {
     "data": {
      "text/plain": [
       "{1, 2, 4, 45, 5, 54, 'TS', 'Willow'}"
      ]
     },
     "execution_count": 5,
     "metadata": {},
     "output_type": "execute_result"
    }
   ],
   "source": [
    "s"
   ]
  },
  {
   "cell_type": "code",
   "execution_count": 6,
   "id": "e46c4e78-9337-4881-88ae-d7710b67597a",
   "metadata": {},
   "outputs": [],
   "source": [
    "s.add(210)"
   ]
  },
  {
   "cell_type": "code",
   "execution_count": 7,
   "id": "d932ca35-9098-4f29-931d-f8beb8c4d345",
   "metadata": {},
   "outputs": [
    {
     "data": {
      "text/plain": [
       "{1, 2, 210, 4, 45, 5, 54, 'TS', 'Willow'}"
      ]
     },
     "execution_count": 7,
     "metadata": {},
     "output_type": "execute_result"
    }
   ],
   "source": [
    "s"
   ]
  },
  {
   "cell_type": "code",
   "execution_count": 14,
   "id": "91cedfa4-6436-4b71-848e-4e249d5cd411",
   "metadata": {},
   "outputs": [
    {
     "ename": "TypeError",
     "evalue": "unhashable type: 'list'",
     "output_type": "error",
     "traceback": [
      "\u001b[0;31m---------------------------------------------------------------------------\u001b[0m",
      "\u001b[0;31mTypeError\u001b[0m                                 Traceback (most recent call last)",
      "Cell \u001b[0;32mIn[14], line 2\u001b[0m\n\u001b[1;32m      1\u001b[0m \u001b[38;5;66;03m# lists cannot be added\u001b[39;00m\n\u001b[0;32m----> 2\u001b[0m \u001b[43ms\u001b[49m\u001b[38;5;241;43m.\u001b[39;49m\u001b[43madd\u001b[49m\u001b[43m(\u001b[49m\u001b[43m[\u001b[49m\u001b[38;5;241;43m1\u001b[39;49m\u001b[43m,\u001b[49m\u001b[38;5;241;43m2\u001b[39;49m\u001b[43m,\u001b[49m\u001b[38;5;241;43m3\u001b[39;49m\u001b[43m]\u001b[49m\u001b[43m)\u001b[49m\n",
      "\u001b[0;31mTypeError\u001b[0m: unhashable type: 'list'"
     ]
    }
   ],
   "source": [
    "# lists cannot be added\n",
    "s.add([1,2,3])"
   ]
  },
  {
   "cell_type": "code",
   "execution_count": 12,
   "id": "e328a685-7091-4768-94cd-26a6b6808a4e",
   "metadata": {},
   "outputs": [
    {
     "ename": "TypeError",
     "evalue": "unhashable type: 'set'",
     "output_type": "error",
     "traceback": [
      "\u001b[0;31m---------------------------------------------------------------------------\u001b[0m",
      "\u001b[0;31mTypeError\u001b[0m                                 Traceback (most recent call last)",
      "Cell \u001b[0;32mIn[12], line 2\u001b[0m\n\u001b[1;32m      1\u001b[0m \u001b[38;5;66;03m# sets cannot be added\u001b[39;00m\n\u001b[0;32m----> 2\u001b[0m \u001b[43ms\u001b[49m\u001b[38;5;241;43m.\u001b[39;49m\u001b[43madd\u001b[49m\u001b[43m(\u001b[49m\u001b[43m{\u001b[49m\u001b[38;5;241;43m2\u001b[39;49m\u001b[43m,\u001b[49m\u001b[38;5;241;43m1\u001b[39;49m\u001b[43m,\u001b[49m\u001b[38;5;241;43m4\u001b[39;49m\u001b[43m,\u001b[49m\u001b[38;5;241;43m5\u001b[39;49m\u001b[43m}\u001b[49m\u001b[43m)\u001b[49m\n",
      "\u001b[0;31mTypeError\u001b[0m: unhashable type: 'set'"
     ]
    }
   ],
   "source": [
    "# sets cannot be added\n",
    "s.add({2,1,4,5})"
   ]
  },
  {
   "cell_type": "code",
   "execution_count": 13,
   "id": "42a84373-1e38-49d6-aff7-d225e6840f3e",
   "metadata": {},
   "outputs": [],
   "source": [
    "# tuples can be added\n",
    "s.add((1,2,4,5,3))"
   ]
  },
  {
   "cell_type": "code",
   "execution_count": 11,
   "id": "582ed9b1-2d92-493b-8f65-cb3c8ab80daf",
   "metadata": {},
   "outputs": [
    {
     "data": {
      "text/plain": [
       "{(1, 2, 4, 5, 3), 1, 2, 210, 4, 45, 5, 54, 'TS', 'Willow'}"
      ]
     },
     "execution_count": 11,
     "metadata": {},
     "output_type": "execute_result"
    }
   ],
   "source": [
    "s"
   ]
  },
  {
   "cell_type": "markdown",
   "id": "6069f76f-aa2f-48ff-863e-b510d3623cd3",
   "metadata": {},
   "source": [
    "Q4. How do you remove elements from a set in Python?"
   ]
  },
  {
   "cell_type": "markdown",
   "id": "92729f45-f8bf-4216-92b6-b80120704946",
   "metadata": {},
   "source": [
    "Ans- Elements in a set in python can be removed in two different ways- intentionaly and randomly.\n",
    "For intentional removal of an element in set, there are two functions that can be used- remove() and discard().\n",
    "Both of these functions remove the desired element but the only difference between the two function is, remove() function shows keyerror when an elemnt not present is tried to be removed but this doesnot happen with discard() function that does not show keyerror when a number not present is tried to be removed.\n",
    "Also, only numbers can be removed from a set.\n",
    "Random removal- Numbers can be randomly removed from a set by usig pop() function. Ex-\n"
   ]
  },
  {
   "cell_type": "code",
   "execution_count": 17,
   "id": "76cbf259-1afe-4e39-a588-d57cc54deddb",
   "metadata": {},
   "outputs": [
    {
     "data": {
      "text/plain": [
       "{(1, 2, 4, 5, 3), 1, 2, 210, 4, 45, 5, 54, 'TS', 'Willow', 'willow'}"
      ]
     },
     "execution_count": 17,
     "metadata": {},
     "output_type": "execute_result"
    }
   ],
   "source": [
    "s"
   ]
  },
  {
   "cell_type": "code",
   "execution_count": 19,
   "id": "79c9ed6e-6c1a-4932-99a5-9cffba5bfd41",
   "metadata": {},
   "outputs": [],
   "source": [
    "# using remove()\n",
    "s.remove(2)"
   ]
  },
  {
   "cell_type": "code",
   "execution_count": 20,
   "id": "41653117-6dad-4fe9-891d-b238a674aee0",
   "metadata": {},
   "outputs": [
    {
     "data": {
      "text/plain": [
       "{(1, 2, 4, 5, 3), 1, 210, 4, 45, 5, 54, 'TS', 'Willow', 'willow'}"
      ]
     },
     "execution_count": 20,
     "metadata": {},
     "output_type": "execute_result"
    }
   ],
   "source": [
    "s"
   ]
  },
  {
   "cell_type": "code",
   "execution_count": 21,
   "id": "6d5e71c4-bb1b-4a9c-88aa-69434716062b",
   "metadata": {},
   "outputs": [
    {
     "ename": "KeyError",
     "evalue": "100",
     "output_type": "error",
     "traceback": [
      "\u001b[0;31m---------------------------------------------------------------------------\u001b[0m",
      "\u001b[0;31mKeyError\u001b[0m                                  Traceback (most recent call last)",
      "Cell \u001b[0;32mIn[21], line 2\u001b[0m\n\u001b[1;32m      1\u001b[0m \u001b[38;5;66;03m# remove() does not support removal of elements that are not present\u001b[39;00m\n\u001b[0;32m----> 2\u001b[0m \u001b[43ms\u001b[49m\u001b[38;5;241;43m.\u001b[39;49m\u001b[43mremove\u001b[49m\u001b[43m(\u001b[49m\u001b[38;5;241;43m100\u001b[39;49m\u001b[43m)\u001b[49m\n",
      "\u001b[0;31mKeyError\u001b[0m: 100"
     ]
    }
   ],
   "source": [
    "# remove() does not support removal of elements that are not present\n",
    "s.remove(100)"
   ]
  },
  {
   "cell_type": "code",
   "execution_count": 22,
   "id": "2b07b210-19c8-4c1c-be29-8db136c82bc7",
   "metadata": {},
   "outputs": [],
   "source": [
    "# Using discard()\n",
    "s.discard(5)"
   ]
  },
  {
   "cell_type": "code",
   "execution_count": 23,
   "id": "897d22f6-7423-426b-8da6-31871e651d0d",
   "metadata": {},
   "outputs": [
    {
     "data": {
      "text/plain": [
       "{(1, 2, 4, 5, 3), 1, 210, 4, 45, 54, 'TS', 'Willow', 'willow'}"
      ]
     },
     "execution_count": 23,
     "metadata": {},
     "output_type": "execute_result"
    }
   ],
   "source": [
    "s"
   ]
  },
  {
   "cell_type": "code",
   "execution_count": 25,
   "id": "1c44a224-d891-46ab-a203-abc6d2bb37f2",
   "metadata": {},
   "outputs": [],
   "source": [
    "# discard() does not throw an error upon attempted removal of an absent element\n",
    "s.discard(100)"
   ]
  },
  {
   "cell_type": "code",
   "execution_count": 26,
   "id": "ef28f166-028b-46fb-9d1b-a1dae44de3ff",
   "metadata": {},
   "outputs": [
    {
     "data": {
      "text/plain": [
       "{(1, 2, 4, 5, 3), 1, 210, 4, 45, 54, 'TS', 'Willow', 'willow'}"
      ]
     },
     "execution_count": 26,
     "metadata": {},
     "output_type": "execute_result"
    }
   ],
   "source": [
    "s"
   ]
  },
  {
   "cell_type": "code",
   "execution_count": 32,
   "id": "ff966f4e-4b68-41c4-8795-d14912a4f835",
   "metadata": {},
   "outputs": [
    {
     "data": {
      "text/plain": [
       "4"
      ]
     },
     "execution_count": 32,
     "metadata": {},
     "output_type": "execute_result"
    }
   ],
   "source": [
    "# Using pop() - removes elements randomly\n",
    "s.pop()"
   ]
  },
  {
   "cell_type": "markdown",
   "id": "6a59e2b8-ed97-4652-b569-77780b7958d9",
   "metadata": {},
   "source": [
    "Q5. How do you get the length of a set in Python?"
   ]
  },
  {
   "cell_type": "markdown",
   "id": "335dd7e4-3124-4ff7-8f41-fbef05725e27",
   "metadata": {},
   "source": [
    "Ans- We can find the length of a set using len(). "
   ]
  },
  {
   "cell_type": "code",
   "execution_count": 33,
   "id": "44336808-d0b0-4fc3-94e4-e5b1b67a58e0",
   "metadata": {},
   "outputs": [],
   "source": [
    "s={5,1,5,2,3,4,6,7,8,91,100}"
   ]
  },
  {
   "cell_type": "code",
   "execution_count": 35,
   "id": "0934198b-e84d-439b-a67e-7ff463676a74",
   "metadata": {},
   "outputs": [
    {
     "data": {
      "text/plain": [
       "10"
      ]
     },
     "execution_count": 35,
     "metadata": {},
     "output_type": "execute_result"
    }
   ],
   "source": [
    "len(s)"
   ]
  }
 ],
 "metadata": {
  "kernelspec": {
   "display_name": "Python 3 (ipykernel)",
   "language": "python",
   "name": "python3"
  },
  "language_info": {
   "codemirror_mode": {
    "name": "ipython",
    "version": 3
   },
   "file_extension": ".py",
   "mimetype": "text/x-python",
   "name": "python",
   "nbconvert_exporter": "python",
   "pygments_lexer": "ipython3",
   "version": "3.10.8"
  }
 },
 "nbformat": 4,
 "nbformat_minor": 5
}
