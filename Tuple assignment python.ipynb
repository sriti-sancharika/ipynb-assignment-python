{
 "cells": [
  {
   "cell_type": "markdown",
   "id": "e30c909a-e112-4db2-8fec-353cf986c7bb",
   "metadata": {},
   "source": [
    "Q1. What is a tuple in Python?"
   ]
  },
  {
   "cell_type": "markdown",
   "id": "89fcbea3-d0b6-4fc6-8f2f-d9b87c008ea6",
   "metadata": {},
   "source": [
    "Ans- Tuples are a collection of data of different data types, that are immutable. Tuples are ordered and unchangeable. Tuples are written with round brackets."
   ]
  },
  {
   "cell_type": "markdown",
   "id": "841ccc4d-cb92-40b3-b414-1f79c08da55a",
   "metadata": {},
   "source": [
    "Q2. How do you create a tuple in Python?"
   ]
  },
  {
   "cell_type": "markdown",
   "id": "6bf5661f-df75-4e66-9971-c7aba5542f0c",
   "metadata": {},
   "source": [
    "Ans- Tuples can be created by arranging data, seperated by commas and enclosed by round brackets. The items in the collection may be of different data types."
   ]
  },
  {
   "cell_type": "code",
   "execution_count": 1,
   "id": "c92e7210-a74a-49be-af5c-3a97dc2129d7",
   "metadata": {},
   "outputs": [
    {
     "data": {
      "text/plain": [
       "tuple"
      ]
     },
     "execution_count": 1,
     "metadata": {},
     "output_type": "execute_result"
    }
   ],
   "source": [
    "#e.g.\n",
    "t=(1,2,5,4,\"tuple\", True, 5+9j)\n",
    "type(t)"
   ]
  },
  {
   "cell_type": "code",
   "execution_count": 2,
   "id": "4b9ba15b-d600-4382-8b39-c72064f6a1ae",
   "metadata": {},
   "outputs": [
    {
     "data": {
      "text/plain": [
       "(1, 2, 5, 4, 'tuple', True, (5+9j))"
      ]
     },
     "execution_count": 2,
     "metadata": {},
     "output_type": "execute_result"
    }
   ],
   "source": [
    "t"
   ]
  },
  {
   "cell_type": "markdown",
   "id": "e69b8f50-3e04-418f-8bf0-9dde270b0044",
   "metadata": {},
   "source": [
    "Q3. What is the difference between a tuple and a list in Python?"
   ]
  },
  {
   "cell_type": "raw",
   "id": "9090fcbe-902a-402c-a94a-32a05cfbfec6",
   "metadata": {},
   "source": [
    "Ans- Lists and tuples are mostly the same except for the few major differences. \n",
    "1. Lists are mutable while Tuples are immutable, i.e., elements in a lists can be modified or replaced at a particular index while elements in a tuple cannot be modified or replaced at a particular index.\n",
    "2. Lists have functions more than two while tuples have two functions namely, count() and index()."
   ]
  },
  {
   "cell_type": "markdown",
   "id": "b20852a9-441f-4b93-aff4-79e3c918b46c",
   "metadata": {},
   "source": [
    "Q4. Can a tuple be changed in Python?"
   ]
  },
  {
   "cell_type": "markdown",
   "id": "08f39a99-051f-4019-a05e-eb3804bbb8ac",
   "metadata": {},
   "source": [
    "Ans- Tuples in python are immutable collection of objects. Tuples can be converted to lists and vise versa.\n",
    "e.g.,"
   ]
  },
  {
   "cell_type": "code",
   "execution_count": 3,
   "id": "aa83749f-3df9-4345-bff9-0e060ca41235",
   "metadata": {},
   "outputs": [
    {
     "data": {
      "text/plain": [
       "tuple"
      ]
     },
     "execution_count": 3,
     "metadata": {},
     "output_type": "execute_result"
    }
   ],
   "source": [
    "t=(1,2,5,\"Silver\",True, 5+9j)\n",
    "type(t)"
   ]
  },
  {
   "cell_type": "code",
   "execution_count": 12,
   "id": "0c5fd16f-ace9-4445-a80e-ccadbf50ab15",
   "metadata": {},
   "outputs": [
    {
     "data": {
      "text/plain": [
       "[1, 2, 5, 'Silver', True, (5+9j)]"
      ]
     },
     "execution_count": 12,
     "metadata": {},
     "output_type": "execute_result"
    }
   ],
   "source": [
    "#conversion of tuple to list\n",
    "list(t)"
   ]
  },
  {
   "cell_type": "code",
   "execution_count": 5,
   "id": "02a6ed98-a64b-4ad0-8a15-943ce7e1c140",
   "metadata": {},
   "outputs": [],
   "source": [
    "t=list(t)"
   ]
  },
  {
   "cell_type": "code",
   "execution_count": 6,
   "id": "2b6646ec-e720-4a63-a8ec-36a5f9459636",
   "metadata": {},
   "outputs": [
    {
     "data": {
      "text/plain": [
       "[1, 2, 5, 'Silver', True, (5+9j)]"
      ]
     },
     "execution_count": 6,
     "metadata": {},
     "output_type": "execute_result"
    }
   ],
   "source": [
    "t"
   ]
  },
  {
   "cell_type": "code",
   "execution_count": 7,
   "id": "8ad408b7-d354-4c3c-922a-b047f83b1298",
   "metadata": {},
   "outputs": [
    {
     "data": {
      "text/plain": [
       "list"
      ]
     },
     "execution_count": 7,
     "metadata": {},
     "output_type": "execute_result"
    }
   ],
   "source": [
    "type(t)"
   ]
  },
  {
   "cell_type": "code",
   "execution_count": 8,
   "id": "25b40e92-021f-43f4-ad96-7552df756da2",
   "metadata": {},
   "outputs": [
    {
     "data": {
      "text/plain": [
       "(1, 2, 5, 'Silver', True, (5+9j))"
      ]
     },
     "execution_count": 8,
     "metadata": {},
     "output_type": "execute_result"
    }
   ],
   "source": [
    "# Conversion of lists to tuples\n",
    "tuple(t)"
   ]
  },
  {
   "cell_type": "code",
   "execution_count": 9,
   "id": "f5f42ef5-6d5b-4d67-a900-d5c01067f1e5",
   "metadata": {},
   "outputs": [],
   "source": [
    "t=tuple(t)"
   ]
  },
  {
   "cell_type": "code",
   "execution_count": 10,
   "id": "aa07ba0e-7acb-42d1-9797-81fa5545dc23",
   "metadata": {},
   "outputs": [
    {
     "data": {
      "text/plain": [
       "tuple"
      ]
     },
     "execution_count": 10,
     "metadata": {},
     "output_type": "execute_result"
    }
   ],
   "source": [
    "type(t)"
   ]
  },
  {
   "cell_type": "code",
   "execution_count": 11,
   "id": "3332da10-88e1-4af0-b63d-f7556efcd561",
   "metadata": {},
   "outputs": [
    {
     "data": {
      "text/plain": [
       "(1, 2, 5, 'Silver', True, (5+9j))"
      ]
     },
     "execution_count": 11,
     "metadata": {},
     "output_type": "execute_result"
    }
   ],
   "source": [
    "t"
   ]
  },
  {
   "cell_type": "markdown",
   "id": "a0b5c33e-9127-4713-821f-845cb74824a5",
   "metadata": {},
   "source": [
    "Q5. How do you access elements in a tuple?"
   ]
  },
  {
   "cell_type": "markdown",
   "id": "f2e7f8cb-fdac-45d7-b14b-23d9ec643ed8",
   "metadata": {},
   "source": [
    "Ans- Elements in a tuple can be accessed by using indexing.\n",
    "i.e., "
   ]
  },
  {
   "cell_type": "code",
   "execution_count": 13,
   "id": "15c7eb1f-ecfc-442a-9257-01d3d508e5f5",
   "metadata": {},
   "outputs": [
    {
     "data": {
      "text/plain": [
       "(1, 2, 5, 'Silver', True, (5+9j))"
      ]
     },
     "execution_count": 13,
     "metadata": {},
     "output_type": "execute_result"
    }
   ],
   "source": [
    "t"
   ]
  },
  {
   "cell_type": "code",
   "execution_count": 14,
   "id": "867cf00a-bd78-4111-9f92-547c2ce75830",
   "metadata": {},
   "outputs": [
    {
     "data": {
      "text/plain": [
       "5"
      ]
     },
     "execution_count": 14,
     "metadata": {},
     "output_type": "execute_result"
    }
   ],
   "source": [
    "t[2]"
   ]
  },
  {
   "cell_type": "markdown",
   "id": "0ba325cd-7b32-45c8-8d98-4ed926e75839",
   "metadata": {},
   "source": [
    "Or a range of data can be accessed in tuples by slicing."
   ]
  },
  {
   "cell_type": "code",
   "execution_count": 15,
   "id": "45c250ff-2edb-4911-84f6-f1fadeeea1d8",
   "metadata": {},
   "outputs": [
    {
     "data": {
      "text/plain": [
       "(1, 2, 5)"
      ]
     },
     "execution_count": 15,
     "metadata": {},
     "output_type": "execute_result"
    }
   ],
   "source": [
    "t[0:3]"
   ]
  },
  {
   "cell_type": "markdown",
   "id": "9da92ebb-34ac-405f-9f16-5c79a5b484cb",
   "metadata": {},
   "source": [
    "Q6. How do you unpack a tuple in Python?"
   ]
  },
  {
   "cell_type": "markdown",
   "id": "dc64f2cd-f486-4eec-98b8-50283069b906",
   "metadata": {},
   "source": [
    "Ans- Tuples in python can be unpacked by using * operator."
   ]
  },
  {
   "cell_type": "code",
   "execution_count": null,
   "id": "f7d6d53e-99df-49c3-b845-b505e8087b7e",
   "metadata": {},
   "outputs": [],
   "source": []
  }
 ],
 "metadata": {
  "kernelspec": {
   "display_name": "Python 3 (ipykernel)",
   "language": "python",
   "name": "python3"
  },
  "language_info": {
   "codemirror_mode": {
    "name": "ipython",
    "version": 3
   },
   "file_extension": ".py",
   "mimetype": "text/x-python",
   "name": "python",
   "nbconvert_exporter": "python",
   "pygments_lexer": "ipython3",
   "version": "3.10.8"
  }
 },
 "nbformat": 4,
 "nbformat_minor": 5
}
