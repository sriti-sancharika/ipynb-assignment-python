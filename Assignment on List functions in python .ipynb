{
 "cells": [
  {
   "cell_type": "markdown",
   "id": "acb02455-caf5-4e1e-930e-950254a27832",
   "metadata": {},
   "source": [
    "Q1. What is the syntax for adding an element to a list in Python?"
   ]
  },
  {
   "cell_type": "raw",
   "id": "e17cfe1e-01ae-446f-acea-5ffffe090442",
   "metadata": {},
   "source": [
    "Ans- The syntax for adding an element to a list in python is, \n",
    "variable_name= [elements separated by commas]"
   ]
  },
  {
   "cell_type": "code",
   "execution_count": 1,
   "id": "a392e736-2b2a-4fa7-b6ca-597cd03e2e6e",
   "metadata": {},
   "outputs": [
    {
     "data": {
      "text/plain": [
       "list"
      ]
     },
     "execution_count": 1,
     "metadata": {},
     "output_type": "execute_result"
    }
   ],
   "source": [
    "#List\n",
    "l=[2,1,5,2,1,2,51,2,\"List\",2+3j]\n",
    "type(l)"
   ]
  },
  {
   "cell_type": "code",
   "execution_count": 2,
   "id": "d146f318-cec0-474b-808e-67ab7d958530",
   "metadata": {},
   "outputs": [
    {
     "data": {
      "text/plain": [
       "[2, 1, 5, 2, 1, 2, 51, 2, 'List', (2+3j)]"
      ]
     },
     "execution_count": 2,
     "metadata": {},
     "output_type": "execute_result"
    }
   ],
   "source": [
    "l"
   ]
  },
  {
   "cell_type": "markdown",
   "id": "ba556d62-477d-4aea-b088-a992dcd6dd72",
   "metadata": {},
   "source": [
    "Q2. What is the difference between remove() and pop() functions in Python?"
   ]
  },
  {
   "cell_type": "markdown",
   "id": "69048b1e-d119-4786-aa14-2b79e8d5b965",
   "metadata": {},
   "source": [
    "Ans- remove() function can be used to remove an element from any index. While pop() function is used to remove an element from the end of the list."
   ]
  },
  {
   "cell_type": "code",
   "execution_count": 3,
   "id": "fce79434-2d3d-4163-9b62-b567e14b37f6",
   "metadata": {},
   "outputs": [],
   "source": [
    "l=[2,1,5,2,1,2,51,2,\"List\",2+3j]"
   ]
  },
  {
   "cell_type": "code",
   "execution_count": 4,
   "id": "4e151b41-bfa4-4a1b-924c-673d40186a74",
   "metadata": {},
   "outputs": [
    {
     "data": {
      "text/plain": [
       "[2, 1, 5, 2, 1, 2, 51, 2, 'List', (2+3j)]"
      ]
     },
     "execution_count": 4,
     "metadata": {},
     "output_type": "execute_result"
    }
   ],
   "source": [
    "l"
   ]
  },
  {
   "cell_type": "code",
   "execution_count": 6,
   "id": "9c6395c1-714a-473a-a422-2a3bd2d845b3",
   "metadata": {},
   "outputs": [],
   "source": [
    "l.remove(2)"
   ]
  },
  {
   "cell_type": "code",
   "execution_count": 7,
   "id": "55e44e80-4cc6-4a96-8afd-6185122e650d",
   "metadata": {},
   "outputs": [
    {
     "data": {
      "text/plain": [
       "[1, 5, 2, 1, 2, 51, 2, 'List', (2+3j)]"
      ]
     },
     "execution_count": 7,
     "metadata": {},
     "output_type": "execute_result"
    }
   ],
   "source": [
    "l"
   ]
  },
  {
   "cell_type": "code",
   "execution_count": 8,
   "id": "22306369-8580-4390-9067-e2b140aa8ac9",
   "metadata": {},
   "outputs": [
    {
     "data": {
      "text/plain": [
       "(2+3j)"
      ]
     },
     "execution_count": 8,
     "metadata": {},
     "output_type": "execute_result"
    }
   ],
   "source": [
    "l.pop()"
   ]
  },
  {
   "cell_type": "code",
   "execution_count": 9,
   "id": "e684a306-af4b-47b6-87e0-77d8c9ff47f0",
   "metadata": {},
   "outputs": [
    {
     "data": {
      "text/plain": [
       "[1, 5, 2, 1, 2, 51, 2, 'List']"
      ]
     },
     "execution_count": 9,
     "metadata": {},
     "output_type": "execute_result"
    }
   ],
   "source": [
    "l"
   ]
  },
  {
   "cell_type": "markdown",
   "id": "7791091e-0f72-4d54-835d-6afddcb27fb2",
   "metadata": {},
   "source": [
    "Q3. Write a Python code to sort a list in descending order."
   ]
  },
  {
   "cell_type": "code",
   "execution_count": 16,
   "id": "3dfe9823-d10e-41e6-af99-15b6bb08f781",
   "metadata": {},
   "outputs": [
    {
     "data": {
      "text/plain": [
       "[1, 5, 2, 1, 2, 51, 2]"
      ]
     },
     "execution_count": 16,
     "metadata": {},
     "output_type": "execute_result"
    }
   ],
   "source": [
    "l=[1, 5, 2, 1, 2, 51, 2]\n",
    "l"
   ]
  },
  {
   "cell_type": "code",
   "execution_count": 14,
   "id": "7f16716a-f7cc-4ace-afc5-a326b879acbc",
   "metadata": {},
   "outputs": [],
   "source": [
    "l.sort(reverse=True)"
   ]
  },
  {
   "cell_type": "code",
   "execution_count": 15,
   "id": "4450cbad-7349-41a3-88f3-fa2052be66f2",
   "metadata": {},
   "outputs": [
    {
     "data": {
      "text/plain": [
       "[51, 5, 2, 2, 2, 1, 1]"
      ]
     },
     "execution_count": 15,
     "metadata": {},
     "output_type": "execute_result"
    }
   ],
   "source": [
    "l"
   ]
  },
  {
   "cell_type": "markdown",
   "id": "7ad686d9-e234-4fe7-91dd-f2f88e75f760",
   "metadata": {},
   "source": [
    "Q4. Write a Python code to count the number of occurrences of an element in a list."
   ]
  },
  {
   "cell_type": "code",
   "execution_count": 17,
   "id": "e1749691-ca73-4e07-b07c-81188a1da152",
   "metadata": {},
   "outputs": [
    {
     "data": {
      "text/plain": [
       "[1, 5, 2, 1, 2, 51, 2]"
      ]
     },
     "execution_count": 17,
     "metadata": {},
     "output_type": "execute_result"
    }
   ],
   "source": [
    "l"
   ]
  },
  {
   "cell_type": "code",
   "execution_count": 18,
   "id": "0c66149f-3bcf-4221-9b46-af85a542937e",
   "metadata": {},
   "outputs": [
    {
     "data": {
      "text/plain": [
       "2"
      ]
     },
     "execution_count": 18,
     "metadata": {},
     "output_type": "execute_result"
    }
   ],
   "source": [
    "l.count(1)"
   ]
  },
  {
   "cell_type": "code",
   "execution_count": 19,
   "id": "db633aaf-58b5-41b4-94df-98c5f9237651",
   "metadata": {},
   "outputs": [
    {
     "data": {
      "text/plain": [
       "3"
      ]
     },
     "execution_count": 19,
     "metadata": {},
     "output_type": "execute_result"
    }
   ],
   "source": [
    "l.count(2)"
   ]
  },
  {
   "cell_type": "code",
   "execution_count": 20,
   "id": "7ad4cb8c-acca-4da7-b214-e4d94a7479a1",
   "metadata": {},
   "outputs": [
    {
     "data": {
      "text/plain": [
       "1"
      ]
     },
     "execution_count": 20,
     "metadata": {},
     "output_type": "execute_result"
    }
   ],
   "source": [
    "l.count(51)"
   ]
  },
  {
   "cell_type": "markdown",
   "id": "fdb6daa0-4cfa-402f-a654-bd77a37a5e4c",
   "metadata": {},
   "source": [
    "Q5. Write a Python code to reverse a list."
   ]
  },
  {
   "cell_type": "code",
   "execution_count": 21,
   "id": "e4c5d1f8-dc79-4df4-b1dd-f8bfdd8872d5",
   "metadata": {},
   "outputs": [
    {
     "data": {
      "text/plain": [
       "[1, 5, 2, 1, 2, 51, 2]"
      ]
     },
     "execution_count": 21,
     "metadata": {},
     "output_type": "execute_result"
    }
   ],
   "source": [
    "l"
   ]
  },
  {
   "cell_type": "code",
   "execution_count": 22,
   "id": "0fc1dbb2-5f3f-4a24-a63f-262bbd6c6a56",
   "metadata": {},
   "outputs": [],
   "source": [
    "l.reverse()"
   ]
  },
  {
   "cell_type": "code",
   "execution_count": 23,
   "id": "29e108db-3fcb-4f34-892c-746bfc9c249f",
   "metadata": {},
   "outputs": [
    {
     "data": {
      "text/plain": [
       "[2, 51, 2, 1, 2, 5, 1]"
      ]
     },
     "execution_count": 23,
     "metadata": {},
     "output_type": "execute_result"
    }
   ],
   "source": [
    "l"
   ]
  },
  {
   "cell_type": "code",
   "execution_count": null,
   "id": "8c64edc5-f295-4fdd-8f8c-58ae08dff116",
   "metadata": {},
   "outputs": [],
   "source": []
  }
 ],
 "metadata": {
  "kernelspec": {
   "display_name": "Python 3 (ipykernel)",
   "language": "python",
   "name": "python3"
  },
  "language_info": {
   "codemirror_mode": {
    "name": "ipython",
    "version": 3
   },
   "file_extension": ".py",
   "mimetype": "text/x-python",
   "name": "python",
   "nbconvert_exporter": "python",
   "pygments_lexer": "ipython3",
   "version": "3.10.8"
  }
 },
 "nbformat": 4,
 "nbformat_minor": 5
}
