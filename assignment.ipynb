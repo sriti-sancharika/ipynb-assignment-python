{
 "cells": [
  {
   "cell_type": "markdown",
   "id": "2ba9689c-24f4-4b0f-99da-9b01f233c214",
   "metadata": {},
   "source": [
    "1. - Variable name must start with a letter or the underscore(_).\n",
    "   -Should not start with a number or any other special charecter except the underscore\n",
    "   -It should not be key word"
   ]
  },
  {
   "cell_type": "markdown",
   "id": "fb931e09-f984-4269-ba71-d0721020f94f",
   "metadata": {},
   "source": [
    "2. The compiler will show error."
   ]
  },
  {
   "cell_type": "markdown",
   "id": "d41ffa34-2769-4303-bc67-c20528b1172a",
   "metadata": {},
   "source": [
    "3. Yes, but the string must not contain any white spaces and should follow the convention for declaration of variabe."
   ]
  },
  {
   "cell_type": "markdown",
   "id": "275aa649-5191-458f-a8f6-09bb23035dff",
   "metadata": {},
   "source": [
    "4. Yes, it is possible to use the underscore as the name of the variable. \n",
    "   eg.-"
   ]
  },
  {
   "cell_type": "code",
   "execution_count": 1,
   "id": "0870035b-8c97-4ef8-84c8-2476d4fe859c",
   "metadata": {},
   "outputs": [
    {
     "name": "stdout",
     "output_type": "stream",
     "text": [
      "Rose\n",
      "2\n"
     ]
    }
   ],
   "source": [
    "name=\"Rose\"\n",
    "_no=2\n",
    "print(name)\n",
    "print(_no)"
   ]
  },
  {
   "cell_type": "markdown",
   "id": "005e4b41-bad8-4b47-9679-c68236c22856",
   "metadata": {},
   "source": [
    "5. Python Variables are dynamic in nayure as they can be assigned to different values through out the program but still show the latest updated value. eg.-"
   ]
  },
  {
   "cell_type": "code",
   "execution_count": 2,
   "id": "a318750c-eea0-463c-9a63-cd34d0647472",
   "metadata": {},
   "outputs": [
    {
     "name": "stdout",
     "output_type": "stream",
     "text": [
      "10\n"
     ]
    }
   ],
   "source": [
    "x=10\n",
    "print(x)\n"
   ]
  },
  {
   "cell_type": "code",
   "execution_count": 3,
   "id": "46549e75-9dbe-42f6-a033-a1534db9382a",
   "metadata": {},
   "outputs": [
    {
     "name": "stdout",
     "output_type": "stream",
     "text": [
      "4\n"
     ]
    }
   ],
   "source": [
    "x=4\n",
    "print(x)"
   ]
  }
 ],
 "metadata": {
  "kernelspec": {
   "display_name": "Python 3 (ipykernel)",
   "language": "python",
   "name": "python3"
  },
  "language_info": {
   "codemirror_mode": {
    "name": "ipython",
    "version": 3
   },
   "file_extension": ".py",
   "mimetype": "text/x-python",
   "name": "python",
   "nbconvert_exporter": "python",
   "pygments_lexer": "ipython3",
   "version": "3.10.8"
  }
 },
 "nbformat": 4,
 "nbformat_minor": 5
}
